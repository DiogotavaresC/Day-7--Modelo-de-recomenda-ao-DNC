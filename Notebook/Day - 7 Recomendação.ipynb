{
 "cells": [
  {
   "cell_type": "code",
   "execution_count": 1,
   "id": "117ed454",
   "metadata": {},
   "outputs": [],
   "source": [
    "import pandas as pd\n",
    "import matplotlib.pyplot as plt\n",
    "import seaborn as sns\n",
    "import numpy as np"
   ]
  },
  {
   "cell_type": "markdown",
   "id": "3761777d",
   "metadata": {},
   "source": [
    "# Importando o banco de Dados"
   ]
  },
  {
   "cell_type": "code",
   "execution_count": 2,
   "id": "03ae89b0",
   "metadata": {},
   "outputs": [],
   "source": [
    "df1 = pd.read_csv(r'C:\\Users\\diogo\\Downloads\\Day 7\\DNC_order_items_dataset.csv')\n",
    "df2 = pd.read_csv(r'C:\\Users\\diogo\\Downloads\\Day 7\\DNC_order_reviews_dataset.csv')\n",
    "df3 = pd.read_csv(r'C:\\Users\\diogo\\Downloads\\Day 7\\DNC_orders_dataset.csv')\n",
    "df4 = pd.read_csv(r'C:\\Users\\diogo\\Downloads\\Day 7\\DNC_products_dataset.csv')"
   ]
  },
  {
   "cell_type": "markdown",
   "id": "c3a3bad0",
   "metadata": {},
   "source": [
    "## visualizando o dataframe"
   ]
  },
  {
   "cell_type": "code",
   "execution_count": 3,
   "id": "91e675e9",
   "metadata": {},
   "outputs": [
    {
     "data": {
      "text/html": [
       "<div>\n",
       "<style scoped>\n",
       "    .dataframe tbody tr th:only-of-type {\n",
       "        vertical-align: middle;\n",
       "    }\n",
       "\n",
       "    .dataframe tbody tr th {\n",
       "        vertical-align: top;\n",
       "    }\n",
       "\n",
       "    .dataframe thead th {\n",
       "        text-align: right;\n",
       "    }\n",
       "</style>\n",
       "<table border=\"1\" class=\"dataframe\">\n",
       "  <thead>\n",
       "    <tr style=\"text-align: right;\">\n",
       "      <th></th>\n",
       "      <th>Unnamed: 0</th>\n",
       "      <th>order_id</th>\n",
       "      <th>order_item_id</th>\n",
       "      <th>product_id</th>\n",
       "      <th>price</th>\n",
       "    </tr>\n",
       "  </thead>\n",
       "  <tbody>\n",
       "    <tr>\n",
       "      <th>56537</th>\n",
       "      <td>56537</td>\n",
       "      <td>8099510db9a578b9c9e341e0a4026d08</td>\n",
       "      <td>1</td>\n",
       "      <td>73326828aa5efe1ba096223de496f596</td>\n",
       "      <td>82.00</td>\n",
       "    </tr>\n",
       "    <tr>\n",
       "      <th>106513</th>\n",
       "      <td>106513</td>\n",
       "      <td>f20d2065cf43144b10631f85002fe6ca</td>\n",
       "      <td>1</td>\n",
       "      <td>5d096ee78b3150e1dcab797e13884824</td>\n",
       "      <td>64.99</td>\n",
       "    </tr>\n",
       "    <tr>\n",
       "      <th>42391</th>\n",
       "      <td>42391</td>\n",
       "      <td>608f10c703cf4a52527bfe0ae0afbddc</td>\n",
       "      <td>1</td>\n",
       "      <td>e2e2c6003104c5c3b265e60c980904d9</td>\n",
       "      <td>149.90</td>\n",
       "    </tr>\n",
       "  </tbody>\n",
       "</table>\n",
       "</div>"
      ],
      "text/plain": [
       "        Unnamed: 0                          order_id  order_item_id  \\\n",
       "56537        56537  8099510db9a578b9c9e341e0a4026d08              1   \n",
       "106513      106513  f20d2065cf43144b10631f85002fe6ca              1   \n",
       "42391        42391  608f10c703cf4a52527bfe0ae0afbddc              1   \n",
       "\n",
       "                              product_id   price  \n",
       "56537   73326828aa5efe1ba096223de496f596   82.00  \n",
       "106513  5d096ee78b3150e1dcab797e13884824   64.99  \n",
       "42391   e2e2c6003104c5c3b265e60c980904d9  149.90  "
      ]
     },
     "metadata": {},
     "output_type": "display_data"
    },
    {
     "name": "stdout",
     "output_type": "stream",
     "text": [
      "Data Frame completo (112650, 5)\n"
     ]
    },
    {
     "data": {
      "text/html": [
       "<div>\n",
       "<style scoped>\n",
       "    .dataframe tbody tr th:only-of-type {\n",
       "        vertical-align: middle;\n",
       "    }\n",
       "\n",
       "    .dataframe tbody tr th {\n",
       "        vertical-align: top;\n",
       "    }\n",
       "\n",
       "    .dataframe thead th {\n",
       "        text-align: right;\n",
       "    }\n",
       "</style>\n",
       "<table border=\"1\" class=\"dataframe\">\n",
       "  <thead>\n",
       "    <tr style=\"text-align: right;\">\n",
       "      <th></th>\n",
       "      <th>Unnamed: 0</th>\n",
       "      <th>review_id</th>\n",
       "      <th>order_id</th>\n",
       "      <th>review_score</th>\n",
       "    </tr>\n",
       "  </thead>\n",
       "  <tbody>\n",
       "    <tr>\n",
       "      <th>5037</th>\n",
       "      <td>5037</td>\n",
       "      <td>fd7d77e750bfd5261c9f19b73f1d7109</td>\n",
       "      <td>4feb155d6d4d8b2ba3191d90655f3b99</td>\n",
       "      <td>5</td>\n",
       "    </tr>\n",
       "    <tr>\n",
       "      <th>2555</th>\n",
       "      <td>2555</td>\n",
       "      <td>a74576250ec01782aaecc685410ed4c4</td>\n",
       "      <td>3d56216916c4f573940c222a4d3e763d</td>\n",
       "      <td>5</td>\n",
       "    </tr>\n",
       "    <tr>\n",
       "      <th>80041</th>\n",
       "      <td>80041</td>\n",
       "      <td>199df57df33ab76a01e09666d32e2e8e</td>\n",
       "      <td>cb86e7fa5dcf2f86b0a038518514d891</td>\n",
       "      <td>5</td>\n",
       "    </tr>\n",
       "  </tbody>\n",
       "</table>\n",
       "</div>"
      ],
      "text/plain": [
       "       Unnamed: 0                         review_id  \\\n",
       "5037         5037  fd7d77e750bfd5261c9f19b73f1d7109   \n",
       "2555         2555  a74576250ec01782aaecc685410ed4c4   \n",
       "80041       80041  199df57df33ab76a01e09666d32e2e8e   \n",
       "\n",
       "                               order_id  review_score  \n",
       "5037   4feb155d6d4d8b2ba3191d90655f3b99             5  \n",
       "2555   3d56216916c4f573940c222a4d3e763d             5  \n",
       "80041  cb86e7fa5dcf2f86b0a038518514d891             5  "
      ]
     },
     "metadata": {},
     "output_type": "display_data"
    },
    {
     "name": "stdout",
     "output_type": "stream",
     "text": [
      "Data Frame completo (99224, 4)\n"
     ]
    },
    {
     "data": {
      "text/html": [
       "<div>\n",
       "<style scoped>\n",
       "    .dataframe tbody tr th:only-of-type {\n",
       "        vertical-align: middle;\n",
       "    }\n",
       "\n",
       "    .dataframe tbody tr th {\n",
       "        vertical-align: top;\n",
       "    }\n",
       "\n",
       "    .dataframe thead th {\n",
       "        text-align: right;\n",
       "    }\n",
       "</style>\n",
       "<table border=\"1\" class=\"dataframe\">\n",
       "  <thead>\n",
       "    <tr style=\"text-align: right;\">\n",
       "      <th></th>\n",
       "      <th>Unnamed: 0</th>\n",
       "      <th>order_id</th>\n",
       "      <th>customer_id</th>\n",
       "      <th>order_status</th>\n",
       "    </tr>\n",
       "  </thead>\n",
       "  <tbody>\n",
       "    <tr>\n",
       "      <th>52725</th>\n",
       "      <td>52725</td>\n",
       "      <td>3737d5e98a43749e8713ea1e2c9b5355</td>\n",
       "      <td>c512f620f76cc7b83e3eceeb72bfc6de</td>\n",
       "      <td>delivered</td>\n",
       "    </tr>\n",
       "    <tr>\n",
       "      <th>77357</th>\n",
       "      <td>77357</td>\n",
       "      <td>688777dd259c99e7554f3901ff653a54</td>\n",
       "      <td>d26f92dad3a2f62023e3411cc7ae6721</td>\n",
       "      <td>delivered</td>\n",
       "    </tr>\n",
       "    <tr>\n",
       "      <th>67026</th>\n",
       "      <td>67026</td>\n",
       "      <td>528d1ebb9f5a8601f7c1d21e05412b2f</td>\n",
       "      <td>c3fbf67004ec7cb05dbd7300afdbd4d8</td>\n",
       "      <td>delivered</td>\n",
       "    </tr>\n",
       "  </tbody>\n",
       "</table>\n",
       "</div>"
      ],
      "text/plain": [
       "       Unnamed: 0                          order_id  \\\n",
       "52725       52725  3737d5e98a43749e8713ea1e2c9b5355   \n",
       "77357       77357  688777dd259c99e7554f3901ff653a54   \n",
       "67026       67026  528d1ebb9f5a8601f7c1d21e05412b2f   \n",
       "\n",
       "                            customer_id order_status  \n",
       "52725  c512f620f76cc7b83e3eceeb72bfc6de    delivered  \n",
       "77357  d26f92dad3a2f62023e3411cc7ae6721    delivered  \n",
       "67026  c3fbf67004ec7cb05dbd7300afdbd4d8    delivered  "
      ]
     },
     "metadata": {},
     "output_type": "display_data"
    },
    {
     "name": "stdout",
     "output_type": "stream",
     "text": [
      "Data Frame completo (99441, 4)\n"
     ]
    },
    {
     "data": {
      "text/html": [
       "<div>\n",
       "<style scoped>\n",
       "    .dataframe tbody tr th:only-of-type {\n",
       "        vertical-align: middle;\n",
       "    }\n",
       "\n",
       "    .dataframe tbody tr th {\n",
       "        vertical-align: top;\n",
       "    }\n",
       "\n",
       "    .dataframe thead th {\n",
       "        text-align: right;\n",
       "    }\n",
       "</style>\n",
       "<table border=\"1\" class=\"dataframe\">\n",
       "  <thead>\n",
       "    <tr style=\"text-align: right;\">\n",
       "      <th></th>\n",
       "      <th>Unnamed: 0</th>\n",
       "      <th>product_id</th>\n",
       "      <th>product_category_name</th>\n",
       "      <th>product_name_lenght</th>\n",
       "      <th>product_description_lenght</th>\n",
       "      <th>product_weight_g</th>\n",
       "      <th>product_length_cm</th>\n",
       "      <th>product_height_cm</th>\n",
       "      <th>product_width_cm</th>\n",
       "    </tr>\n",
       "  </thead>\n",
       "  <tbody>\n",
       "    <tr>\n",
       "      <th>14084</th>\n",
       "      <td>14084</td>\n",
       "      <td>f8fd25407acaa78a395f224cbdc062c8</td>\n",
       "      <td>cama_mesa_banho</td>\n",
       "      <td>59.0</td>\n",
       "      <td>883.0</td>\n",
       "      <td>1600.0</td>\n",
       "      <td>35.0</td>\n",
       "      <td>8.0</td>\n",
       "      <td>35.0</td>\n",
       "    </tr>\n",
       "    <tr>\n",
       "      <th>16901</th>\n",
       "      <td>16901</td>\n",
       "      <td>94972ba3b1856e8453d8a0b4d522aa36</td>\n",
       "      <td>cama_mesa_banho</td>\n",
       "      <td>52.0</td>\n",
       "      <td>489.0</td>\n",
       "      <td>200.0</td>\n",
       "      <td>16.0</td>\n",
       "      <td>10.0</td>\n",
       "      <td>16.0</td>\n",
       "    </tr>\n",
       "    <tr>\n",
       "      <th>28191</th>\n",
       "      <td>28191</td>\n",
       "      <td>177f62b739076126a879238444ccbf02</td>\n",
       "      <td>relogios_presentes</td>\n",
       "      <td>58.0</td>\n",
       "      <td>1352.0</td>\n",
       "      <td>240.0</td>\n",
       "      <td>13.0</td>\n",
       "      <td>12.0</td>\n",
       "      <td>14.0</td>\n",
       "    </tr>\n",
       "  </tbody>\n",
       "</table>\n",
       "</div>"
      ],
      "text/plain": [
       "       Unnamed: 0                        product_id product_category_name  \\\n",
       "14084       14084  f8fd25407acaa78a395f224cbdc062c8       cama_mesa_banho   \n",
       "16901       16901  94972ba3b1856e8453d8a0b4d522aa36       cama_mesa_banho   \n",
       "28191       28191  177f62b739076126a879238444ccbf02    relogios_presentes   \n",
       "\n",
       "       product_name_lenght  product_description_lenght  product_weight_g  \\\n",
       "14084                 59.0                       883.0            1600.0   \n",
       "16901                 52.0                       489.0             200.0   \n",
       "28191                 58.0                      1352.0             240.0   \n",
       "\n",
       "       product_length_cm  product_height_cm  product_width_cm  \n",
       "14084               35.0                8.0              35.0  \n",
       "16901               16.0               10.0              16.0  \n",
       "28191               13.0               12.0              14.0  "
      ]
     },
     "metadata": {},
     "output_type": "display_data"
    },
    {
     "name": "stdout",
     "output_type": "stream",
     "text": [
      "Data Frame completo (32951, 9)\n"
     ]
    }
   ],
   "source": [
    "display(df1.sample(3))\n",
    "print(f\"Data Frame completo {df1.shape}\")\n",
    "\n",
    "display(df2.sample(3))\n",
    "print(f\"Data Frame completo {df2.shape}\")\n",
    "\n",
    "display(df3.sample(3))\n",
    "print(f\"Data Frame completo {df3.shape}\")\n",
    "\n",
    "display(df4.sample(3))\n",
    "print(f\"Data Frame completo {df4.shape}\")"
   ]
  },
  {
   "cell_type": "markdown",
   "id": "854e3946",
   "metadata": {},
   "source": [
    "# Explorando banco de dados"
   ]
  },
  {
   "cell_type": "code",
   "execution_count": null,
   "id": "3232e464",
   "metadata": {},
   "outputs": [],
   "source": []
  },
  {
   "cell_type": "code",
   "execution_count": 134,
   "id": "a3e5e99b",
   "metadata": {},
   "outputs": [],
   "source": [
    "#user_df = user_df.merge(df3,on=['order_id'])"
   ]
  },
  {
   "cell_type": "markdown",
   "id": "8e832bed",
   "metadata": {},
   "source": [
    "## Merge do banco de dados dos rewies com o banco de dados de usuários e status da entrega"
   ]
  },
  {
   "cell_type": "code",
   "execution_count": 4,
   "id": "abb70086",
   "metadata": {},
   "outputs": [],
   "source": [
    "# merge nos banco de dados\n",
    "userdf = df2.merge(df3,on=['order_id'])"
   ]
  },
  {
   "cell_type": "markdown",
   "id": "9ffdd176",
   "metadata": {},
   "source": [
    "##### Análise exploratória dois banco de dados"
   ]
  },
  {
   "cell_type": "code",
   "execution_count": 5,
   "id": "4155b8f6",
   "metadata": {},
   "outputs": [
    {
     "data": {
      "text/plain": [
       "(99224, 7)"
      ]
     },
     "execution_count": 5,
     "metadata": {},
     "output_type": "execute_result"
    }
   ],
   "source": [
    "userdf.shape"
   ]
  },
  {
   "cell_type": "code",
   "execution_count": 6,
   "id": "52bee147",
   "metadata": {},
   "outputs": [
    {
     "data": {
      "text/html": [
       "<div>\n",
       "<style scoped>\n",
       "    .dataframe tbody tr th:only-of-type {\n",
       "        vertical-align: middle;\n",
       "    }\n",
       "\n",
       "    .dataframe tbody tr th {\n",
       "        vertical-align: top;\n",
       "    }\n",
       "\n",
       "    .dataframe thead th {\n",
       "        text-align: right;\n",
       "    }\n",
       "</style>\n",
       "<table border=\"1\" class=\"dataframe\">\n",
       "  <thead>\n",
       "    <tr style=\"text-align: right;\">\n",
       "      <th></th>\n",
       "      <th>Unnamed: 0_x</th>\n",
       "      <th>review_id</th>\n",
       "      <th>order_id</th>\n",
       "      <th>review_score</th>\n",
       "      <th>Unnamed: 0_y</th>\n",
       "      <th>customer_id</th>\n",
       "      <th>order_status</th>\n",
       "    </tr>\n",
       "  </thead>\n",
       "  <tbody>\n",
       "    <tr>\n",
       "      <th>0</th>\n",
       "      <td>0</td>\n",
       "      <td>7bc2406110b926393aa56f80a40eba40</td>\n",
       "      <td>73fc7af87114b39712e6da79b0a377eb</td>\n",
       "      <td>4</td>\n",
       "      <td>1871</td>\n",
       "      <td>41dcb106f807e993532d446263290104</td>\n",
       "      <td>delivered</td>\n",
       "    </tr>\n",
       "    <tr>\n",
       "      <th>1</th>\n",
       "      <td>1</td>\n",
       "      <td>80e641a11e56f04c1ad469d5645fdfde</td>\n",
       "      <td>a548910a1c6147796b98fdf73dbeba33</td>\n",
       "      <td>5</td>\n",
       "      <td>90488</td>\n",
       "      <td>8a2e7ef9053dea531e4dc76bd6d853e6</td>\n",
       "      <td>delivered</td>\n",
       "    </tr>\n",
       "    <tr>\n",
       "      <th>2</th>\n",
       "      <td>2</td>\n",
       "      <td>228ce5500dc1d8e020d8d1322874b6f0</td>\n",
       "      <td>f9e4b658b201a9f2ecdecbb34bed034b</td>\n",
       "      <td>5</td>\n",
       "      <td>78882</td>\n",
       "      <td>e226dfed6544df5b7b87a48208690feb</td>\n",
       "      <td>delivered</td>\n",
       "    </tr>\n",
       "    <tr>\n",
       "      <th>3</th>\n",
       "      <td>3</td>\n",
       "      <td>e64fb393e7b32834bb789ff8bb30750e</td>\n",
       "      <td>658677c97b385a9be170737859d3511b</td>\n",
       "      <td>5</td>\n",
       "      <td>27557</td>\n",
       "      <td>de6dff97e5f1ba84a3cd9a3bc97df5f6</td>\n",
       "      <td>delivered</td>\n",
       "    </tr>\n",
       "    <tr>\n",
       "      <th>4</th>\n",
       "      <td>4</td>\n",
       "      <td>f7c4243c7fe1938f181bec41a392bdeb</td>\n",
       "      <td>8e6bfb81e283fa7e4f11123a3fb894f1</td>\n",
       "      <td>5</td>\n",
       "      <td>79505</td>\n",
       "      <td>5986b333ca0d44534a156a52a8e33a83</td>\n",
       "      <td>delivered</td>\n",
       "    </tr>\n",
       "  </tbody>\n",
       "</table>\n",
       "</div>"
      ],
      "text/plain": [
       "   Unnamed: 0_x                         review_id  \\\n",
       "0             0  7bc2406110b926393aa56f80a40eba40   \n",
       "1             1  80e641a11e56f04c1ad469d5645fdfde   \n",
       "2             2  228ce5500dc1d8e020d8d1322874b6f0   \n",
       "3             3  e64fb393e7b32834bb789ff8bb30750e   \n",
       "4             4  f7c4243c7fe1938f181bec41a392bdeb   \n",
       "\n",
       "                           order_id  review_score  Unnamed: 0_y  \\\n",
       "0  73fc7af87114b39712e6da79b0a377eb             4          1871   \n",
       "1  a548910a1c6147796b98fdf73dbeba33             5         90488   \n",
       "2  f9e4b658b201a9f2ecdecbb34bed034b             5         78882   \n",
       "3  658677c97b385a9be170737859d3511b             5         27557   \n",
       "4  8e6bfb81e283fa7e4f11123a3fb894f1             5         79505   \n",
       "\n",
       "                        customer_id order_status  \n",
       "0  41dcb106f807e993532d446263290104    delivered  \n",
       "1  8a2e7ef9053dea531e4dc76bd6d853e6    delivered  \n",
       "2  e226dfed6544df5b7b87a48208690feb    delivered  \n",
       "3  de6dff97e5f1ba84a3cd9a3bc97df5f6    delivered  \n",
       "4  5986b333ca0d44534a156a52a8e33a83    delivered  "
      ]
     },
     "execution_count": 6,
     "metadata": {},
     "output_type": "execute_result"
    }
   ],
   "source": [
    "userdf.head()"
   ]
  },
  {
   "cell_type": "code",
   "execution_count": null,
   "id": "63142e38",
   "metadata": {},
   "outputs": [],
   "source": []
  },
  {
   "cell_type": "markdown",
   "id": "4f7a4d93",
   "metadata": {},
   "source": [
    "Foi realizado a limpeza do banco de dados de variáveis que não serão importante para o modelo, nessa etapa foram retiradas as variaveis de identificação dos review e index dos bataFrame antigo"
   ]
  },
  {
   "cell_type": "code",
   "execution_count": 7,
   "id": "8c4e8d5d",
   "metadata": {},
   "outputs": [],
   "source": [
    "userdf.drop(['Unnamed: 0_x','Unnamed: 0_y','review_id',],axis=1, inplace=True)"
   ]
  },
  {
   "cell_type": "code",
   "execution_count": 8,
   "id": "8591c40f",
   "metadata": {},
   "outputs": [
    {
     "data": {
      "text/html": [
       "<div>\n",
       "<style scoped>\n",
       "    .dataframe tbody tr th:only-of-type {\n",
       "        vertical-align: middle;\n",
       "    }\n",
       "\n",
       "    .dataframe tbody tr th {\n",
       "        vertical-align: top;\n",
       "    }\n",
       "\n",
       "    .dataframe thead th {\n",
       "        text-align: right;\n",
       "    }\n",
       "</style>\n",
       "<table border=\"1\" class=\"dataframe\">\n",
       "  <thead>\n",
       "    <tr style=\"text-align: right;\">\n",
       "      <th></th>\n",
       "      <th>order_id</th>\n",
       "      <th>review_score</th>\n",
       "      <th>customer_id</th>\n",
       "      <th>order_status</th>\n",
       "    </tr>\n",
       "  </thead>\n",
       "  <tbody>\n",
       "    <tr>\n",
       "      <th>0</th>\n",
       "      <td>73fc7af87114b39712e6da79b0a377eb</td>\n",
       "      <td>4</td>\n",
       "      <td>41dcb106f807e993532d446263290104</td>\n",
       "      <td>delivered</td>\n",
       "    </tr>\n",
       "    <tr>\n",
       "      <th>1</th>\n",
       "      <td>a548910a1c6147796b98fdf73dbeba33</td>\n",
       "      <td>5</td>\n",
       "      <td>8a2e7ef9053dea531e4dc76bd6d853e6</td>\n",
       "      <td>delivered</td>\n",
       "    </tr>\n",
       "    <tr>\n",
       "      <th>2</th>\n",
       "      <td>f9e4b658b201a9f2ecdecbb34bed034b</td>\n",
       "      <td>5</td>\n",
       "      <td>e226dfed6544df5b7b87a48208690feb</td>\n",
       "      <td>delivered</td>\n",
       "    </tr>\n",
       "    <tr>\n",
       "      <th>3</th>\n",
       "      <td>658677c97b385a9be170737859d3511b</td>\n",
       "      <td>5</td>\n",
       "      <td>de6dff97e5f1ba84a3cd9a3bc97df5f6</td>\n",
       "      <td>delivered</td>\n",
       "    </tr>\n",
       "    <tr>\n",
       "      <th>4</th>\n",
       "      <td>8e6bfb81e283fa7e4f11123a3fb894f1</td>\n",
       "      <td>5</td>\n",
       "      <td>5986b333ca0d44534a156a52a8e33a83</td>\n",
       "      <td>delivered</td>\n",
       "    </tr>\n",
       "  </tbody>\n",
       "</table>\n",
       "</div>"
      ],
      "text/plain": [
       "                           order_id  review_score  \\\n",
       "0  73fc7af87114b39712e6da79b0a377eb             4   \n",
       "1  a548910a1c6147796b98fdf73dbeba33             5   \n",
       "2  f9e4b658b201a9f2ecdecbb34bed034b             5   \n",
       "3  658677c97b385a9be170737859d3511b             5   \n",
       "4  8e6bfb81e283fa7e4f11123a3fb894f1             5   \n",
       "\n",
       "                        customer_id order_status  \n",
       "0  41dcb106f807e993532d446263290104    delivered  \n",
       "1  8a2e7ef9053dea531e4dc76bd6d853e6    delivered  \n",
       "2  e226dfed6544df5b7b87a48208690feb    delivered  \n",
       "3  de6dff97e5f1ba84a3cd9a3bc97df5f6    delivered  \n",
       "4  5986b333ca0d44534a156a52a8e33a83    delivered  "
      ]
     },
     "execution_count": 8,
     "metadata": {},
     "output_type": "execute_result"
    }
   ],
   "source": [
    "userdf.head()"
   ]
  },
  {
   "cell_type": "code",
   "execution_count": 11,
   "id": "e7a58ead",
   "metadata": {},
   "outputs": [
    {
     "data": {
      "text/plain": [
       "(99224, 4)"
      ]
     },
     "execution_count": 11,
     "metadata": {},
     "output_type": "execute_result"
    }
   ],
   "source": [
    "userdf.shape"
   ]
  },
  {
   "cell_type": "code",
   "execution_count": 13,
   "id": "7fdf99ff",
   "metadata": {},
   "outputs": [
    {
     "name": "stdout",
     "output_type": "stream",
     "text": [
      "Porcentagem de produtos com a avaliação\n",
      " 5    57.776344\n",
      "4    19.291704\n",
      "1    11.513344\n",
      "3     8.242965\n",
      "2     3.175643\n",
      "Name: review_score, dtype: float64\n",
      "Porcentagem do status do serviço\n",
      " delivered      97.114609\n",
      "shipped         1.051157\n",
      "canceled        0.613763\n",
      "unavailable     0.601669\n",
      "invoiced        0.315448\n",
      "processing      0.298315\n",
      "created         0.003023\n",
      "approved        0.002016\n",
      "Name: order_status, dtype: float64\n"
     ]
    }
   ],
   "source": [
    "print('Porcentagem de produtos com a avaliação\\n',userdf['review_score'].value_counts(1)*100)\n",
    "print('Porcentagem do status do serviço\\n',userdf['order_status'].value_counts(1)*100)"
   ]
  },
  {
   "cell_type": "markdown",
   "id": "3c9d3a75",
   "metadata": {},
   "source": [
    "\n",
    "### Selecionados somente os produtos que foram entregue\n",
    "\n",
    "Nesse modelo de recomendaçãoo foram selecionados somente os produtos que foram entregues, os  produtos que não foram entregue que foram retirados do modelo, independete do motivo da não entrega. Álem disso foi observado qual a porcentagem de qualificação dos produtos, buscando entender qual q média e media das avaliações."
   ]
  },
  {
   "cell_type": "code",
   "execution_count": 14,
   "id": "fddf5291",
   "metadata": {},
   "outputs": [],
   "source": [
    "user_df = userdf[userdf['order_status'] == 'delivered']"
   ]
  },
  {
   "cell_type": "code",
   "execution_count": 15,
   "id": "80f942fe",
   "metadata": {},
   "outputs": [
    {
     "data": {
      "text/html": [
       "<div>\n",
       "<style scoped>\n",
       "    .dataframe tbody tr th:only-of-type {\n",
       "        vertical-align: middle;\n",
       "    }\n",
       "\n",
       "    .dataframe tbody tr th {\n",
       "        vertical-align: top;\n",
       "    }\n",
       "\n",
       "    .dataframe thead th {\n",
       "        text-align: right;\n",
       "    }\n",
       "</style>\n",
       "<table border=\"1\" class=\"dataframe\">\n",
       "  <thead>\n",
       "    <tr style=\"text-align: right;\">\n",
       "      <th></th>\n",
       "      <th>order_id</th>\n",
       "      <th>review_score</th>\n",
       "      <th>customer_id</th>\n",
       "      <th>order_status</th>\n",
       "    </tr>\n",
       "  </thead>\n",
       "  <tbody>\n",
       "    <tr>\n",
       "      <th>0</th>\n",
       "      <td>73fc7af87114b39712e6da79b0a377eb</td>\n",
       "      <td>4</td>\n",
       "      <td>41dcb106f807e993532d446263290104</td>\n",
       "      <td>delivered</td>\n",
       "    </tr>\n",
       "    <tr>\n",
       "      <th>1</th>\n",
       "      <td>a548910a1c6147796b98fdf73dbeba33</td>\n",
       "      <td>5</td>\n",
       "      <td>8a2e7ef9053dea531e4dc76bd6d853e6</td>\n",
       "      <td>delivered</td>\n",
       "    </tr>\n",
       "    <tr>\n",
       "      <th>2</th>\n",
       "      <td>f9e4b658b201a9f2ecdecbb34bed034b</td>\n",
       "      <td>5</td>\n",
       "      <td>e226dfed6544df5b7b87a48208690feb</td>\n",
       "      <td>delivered</td>\n",
       "    </tr>\n",
       "    <tr>\n",
       "      <th>3</th>\n",
       "      <td>658677c97b385a9be170737859d3511b</td>\n",
       "      <td>5</td>\n",
       "      <td>de6dff97e5f1ba84a3cd9a3bc97df5f6</td>\n",
       "      <td>delivered</td>\n",
       "    </tr>\n",
       "    <tr>\n",
       "      <th>4</th>\n",
       "      <td>8e6bfb81e283fa7e4f11123a3fb894f1</td>\n",
       "      <td>5</td>\n",
       "      <td>5986b333ca0d44534a156a52a8e33a83</td>\n",
       "      <td>delivered</td>\n",
       "    </tr>\n",
       "  </tbody>\n",
       "</table>\n",
       "</div>"
      ],
      "text/plain": [
       "                           order_id  review_score  \\\n",
       "0  73fc7af87114b39712e6da79b0a377eb             4   \n",
       "1  a548910a1c6147796b98fdf73dbeba33             5   \n",
       "2  f9e4b658b201a9f2ecdecbb34bed034b             5   \n",
       "3  658677c97b385a9be170737859d3511b             5   \n",
       "4  8e6bfb81e283fa7e4f11123a3fb894f1             5   \n",
       "\n",
       "                        customer_id order_status  \n",
       "0  41dcb106f807e993532d446263290104    delivered  \n",
       "1  8a2e7ef9053dea531e4dc76bd6d853e6    delivered  \n",
       "2  e226dfed6544df5b7b87a48208690feb    delivered  \n",
       "3  de6dff97e5f1ba84a3cd9a3bc97df5f6    delivered  \n",
       "4  5986b333ca0d44534a156a52a8e33a83    delivered  "
      ]
     },
     "execution_count": 15,
     "metadata": {},
     "output_type": "execute_result"
    }
   ],
   "source": [
    "user_df.head()"
   ]
  },
  {
   "cell_type": "code",
   "execution_count": 143,
   "id": "23d36bd7",
   "metadata": {},
   "outputs": [
    {
     "data": {
      "text/plain": [
       "5    0.592211\n",
       "4    0.197040\n",
       "1    0.097612\n",
       "3    0.082616\n",
       "2    0.030521\n",
       "Name: review_score, dtype: float64"
      ]
     },
     "execution_count": 143,
     "metadata": {},
     "output_type": "execute_result"
    }
   ],
   "source": [
    "user_df['review_score'].value_counts(1)"
   ]
  },
  {
   "cell_type": "code",
   "execution_count": 144,
   "id": "a4d9d3a0",
   "metadata": {},
   "outputs": [
    {
     "data": {
      "text/plain": [
       "4.155716524320005"
      ]
     },
     "execution_count": 144,
     "metadata": {},
     "output_type": "execute_result"
    }
   ],
   "source": [
    "# Média das avaliações \n",
    "user_df['review_score'].mean()"
   ]
  },
  {
   "cell_type": "code",
   "execution_count": 17,
   "id": "7a6f7f4c",
   "metadata": {},
   "outputs": [
    {
     "data": {
      "image/png": "[encoded data removed]",
      "text/plain": [
       "<Figure size 432x288 with 1 Axes>"
      ]
     },
     "metadata": {
      "needs_background": "light"
     },
     "output_type": "display_data"
    }
   ],
   "source": [
    "# Box plot dos usuarios que compraram mais produtos\n",
    "fig4, ax4 = plt.subplots()\n",
    "ax4.set_title('Notas dos produtos')\n",
    "ax4.boxplot(user_df['review_score']);"
   ]
  },
  {
   "cell_type": "code",
   "execution_count": 19,
   "id": "d5fbc3e2",
   "metadata": {},
   "outputs": [],
   "source": [
    "#Quantidade de vezes que o usuário avaliou uma compra\n",
    "user_aval = user_df.groupby(by='customer_id', as_index=False) \\\n",
    "  .agg({'review_score': pd.Series.nunique}) \\\n",
    "  .rename(columns={'review_score': 'avali_user'})"
   ]
  },
  {
   "cell_type": "code",
   "execution_count": 20,
   "id": "de9cba01",
   "metadata": {},
   "outputs": [
    {
     "data": {
      "text/html": [
       "<div>\n",
       "<style scoped>\n",
       "    .dataframe tbody tr th:only-of-type {\n",
       "        vertical-align: middle;\n",
       "    }\n",
       "\n",
       "    .dataframe tbody tr th {\n",
       "        vertical-align: top;\n",
       "    }\n",
       "\n",
       "    .dataframe thead th {\n",
       "        text-align: right;\n",
       "    }\n",
       "</style>\n",
       "<table border=\"1\" class=\"dataframe\">\n",
       "  <thead>\n",
       "    <tr style=\"text-align: right;\">\n",
       "      <th></th>\n",
       "      <th>customer_id</th>\n",
       "      <th>avali_user</th>\n",
       "    </tr>\n",
       "  </thead>\n",
       "  <tbody>\n",
       "    <tr>\n",
       "      <th>0</th>\n",
       "      <td>00012a2ce6f8dcda20d059ce98491703</td>\n",
       "      <td>1</td>\n",
       "    </tr>\n",
       "    <tr>\n",
       "      <th>1</th>\n",
       "      <td>000161a058600d5901f007fab4c27140</td>\n",
       "      <td>1</td>\n",
       "    </tr>\n",
       "    <tr>\n",
       "      <th>2</th>\n",
       "      <td>0001fd6190edaaf884bcaf3d49edf079</td>\n",
       "      <td>1</td>\n",
       "    </tr>\n",
       "    <tr>\n",
       "      <th>3</th>\n",
       "      <td>0002414f95344307404f0ace7a26f1d5</td>\n",
       "      <td>1</td>\n",
       "    </tr>\n",
       "    <tr>\n",
       "      <th>4</th>\n",
       "      <td>000379cdec625522490c315e70c7a9fb</td>\n",
       "      <td>1</td>\n",
       "    </tr>\n",
       "  </tbody>\n",
       "</table>\n",
       "</div>"
      ],
      "text/plain": [
       "                        customer_id  avali_user\n",
       "0  00012a2ce6f8dcda20d059ce98491703           1\n",
       "1  000161a058600d5901f007fab4c27140           1\n",
       "2  0001fd6190edaaf884bcaf3d49edf079           1\n",
       "3  0002414f95344307404f0ace7a26f1d5           1\n",
       "4  000379cdec625522490c315e70c7a9fb           1"
      ]
     },
     "execution_count": 20,
     "metadata": {},
     "output_type": "execute_result"
    }
   ],
   "source": [
    "user_aval.head()"
   ]
  },
  {
   "cell_type": "markdown",
   "id": "96889a18",
   "metadata": {},
   "source": []
  },
  {
   "cell_type": "code",
   "execution_count": 21,
   "id": "21be59b7",
   "metadata": {},
   "outputs": [
    {
     "data": {
      "text/plain": [
       "1    95643\n",
       "2      189\n",
       "Name: avali_user, dtype: int64"
      ]
     },
     "execution_count": 21,
     "metadata": {},
     "output_type": "execute_result"
    }
   ],
   "source": [
    "user_aval['avali_user'].value_counts()"
   ]
  },
  {
   "cell_type": "markdown",
   "id": "24f8e5d6",
   "metadata": {},
   "source": [
    "A maioria dos produtos são avaliados como positivos (5 e 4), fazendo a mediana ser em 5 e a médiana é de 4.15, além disso, poucos ususários avaliaram mais de uma vez uma compra, ou seja poucos usuários fizeram recompra"
   ]
  },
  {
   "cell_type": "markdown",
   "id": "48c74724",
   "metadata": {},
   "source": [
    "## Agregando o dataframe dos produtos"
   ]
  },
  {
   "cell_type": "code",
   "execution_count": 22,
   "id": "676d13f6",
   "metadata": {},
   "outputs": [],
   "source": [
    "user_df1 = user_df.merge(df1,on=['order_id'])"
   ]
  },
  {
   "cell_type": "code",
   "execution_count": 23,
   "id": "5e80d9b0",
   "metadata": {},
   "outputs": [
    {
     "data": {
      "text/html": [
       "<div>\n",
       "<style scoped>\n",
       "    .dataframe tbody tr th:only-of-type {\n",
       "        vertical-align: middle;\n",
       "    }\n",
       "\n",
       "    .dataframe tbody tr th {\n",
       "        vertical-align: top;\n",
       "    }\n",
       "\n",
       "    .dataframe thead th {\n",
       "        text-align: right;\n",
       "    }\n",
       "</style>\n",
       "<table border=\"1\" class=\"dataframe\">\n",
       "  <thead>\n",
       "    <tr style=\"text-align: right;\">\n",
       "      <th></th>\n",
       "      <th>order_id</th>\n",
       "      <th>review_score</th>\n",
       "      <th>customer_id</th>\n",
       "      <th>order_status</th>\n",
       "      <th>Unnamed: 0</th>\n",
       "      <th>order_item_id</th>\n",
       "      <th>product_id</th>\n",
       "      <th>price</th>\n",
       "    </tr>\n",
       "  </thead>\n",
       "  <tbody>\n",
       "    <tr>\n",
       "      <th>0</th>\n",
       "      <td>73fc7af87114b39712e6da79b0a377eb</td>\n",
       "      <td>4</td>\n",
       "      <td>41dcb106f807e993532d446263290104</td>\n",
       "      <td>delivered</td>\n",
       "      <td>51033</td>\n",
       "      <td>1</td>\n",
       "      <td>fd25ab760bfbba13c198fa3b4f1a0cd3</td>\n",
       "      <td>185.00</td>\n",
       "    </tr>\n",
       "    <tr>\n",
       "      <th>1</th>\n",
       "      <td>73fc7af87114b39712e6da79b0a377eb</td>\n",
       "      <td>4</td>\n",
       "      <td>41dcb106f807e993532d446263290104</td>\n",
       "      <td>delivered</td>\n",
       "      <td>51034</td>\n",
       "      <td>2</td>\n",
       "      <td>fd25ab760bfbba13c198fa3b4f1a0cd3</td>\n",
       "      <td>185.00</td>\n",
       "    </tr>\n",
       "    <tr>\n",
       "      <th>2</th>\n",
       "      <td>a548910a1c6147796b98fdf73dbeba33</td>\n",
       "      <td>5</td>\n",
       "      <td>8a2e7ef9053dea531e4dc76bd6d853e6</td>\n",
       "      <td>delivered</td>\n",
       "      <td>72472</td>\n",
       "      <td>1</td>\n",
       "      <td>be0dbdc3d67d55727a65d4cd696ca73c</td>\n",
       "      <td>79.79</td>\n",
       "    </tr>\n",
       "    <tr>\n",
       "      <th>3</th>\n",
       "      <td>f9e4b658b201a9f2ecdecbb34bed034b</td>\n",
       "      <td>5</td>\n",
       "      <td>e226dfed6544df5b7b87a48208690feb</td>\n",
       "      <td>delivered</td>\n",
       "      <td>109962</td>\n",
       "      <td>1</td>\n",
       "      <td>d1c427060a0f73f6b889a5c7c61f2ac4</td>\n",
       "      <td>149.00</td>\n",
       "    </tr>\n",
       "    <tr>\n",
       "      <th>4</th>\n",
       "      <td>658677c97b385a9be170737859d3511b</td>\n",
       "      <td>5</td>\n",
       "      <td>de6dff97e5f1ba84a3cd9a3bc97df5f6</td>\n",
       "      <td>delivered</td>\n",
       "      <td>44664</td>\n",
       "      <td>1</td>\n",
       "      <td>52c80cedd4e90108bf4fa6a206ef6b03</td>\n",
       "      <td>179.99</td>\n",
       "    </tr>\n",
       "  </tbody>\n",
       "</table>\n",
       "</div>"
      ],
      "text/plain": [
       "                           order_id  review_score  \\\n",
       "0  73fc7af87114b39712e6da79b0a377eb             4   \n",
       "1  73fc7af87114b39712e6da79b0a377eb             4   \n",
       "2  a548910a1c6147796b98fdf73dbeba33             5   \n",
       "3  f9e4b658b201a9f2ecdecbb34bed034b             5   \n",
       "4  658677c97b385a9be170737859d3511b             5   \n",
       "\n",
       "                        customer_id order_status  Unnamed: 0  order_item_id  \\\n",
       "0  41dcb106f807e993532d446263290104    delivered       51033              1   \n",
       "1  41dcb106f807e993532d446263290104    delivered       51034              2   \n",
       "2  8a2e7ef9053dea531e4dc76bd6d853e6    delivered       72472              1   \n",
       "3  e226dfed6544df5b7b87a48208690feb    delivered      109962              1   \n",
       "4  de6dff97e5f1ba84a3cd9a3bc97df5f6    delivered       44664              1   \n",
       "\n",
       "                         product_id   price  \n",
       "0  fd25ab760bfbba13c198fa3b4f1a0cd3  185.00  \n",
       "1  fd25ab760bfbba13c198fa3b4f1a0cd3  185.00  \n",
       "2  be0dbdc3d67d55727a65d4cd696ca73c   79.79  \n",
       "3  d1c427060a0f73f6b889a5c7c61f2ac4  149.00  \n",
       "4  52c80cedd4e90108bf4fa6a206ef6b03  179.99  "
      ]
     },
     "execution_count": 23,
     "metadata": {},
     "output_type": "execute_result"
    }
   ],
   "source": [
    "user_df1.head()"
   ]
  },
  {
   "cell_type": "code",
   "execution_count": 24,
   "id": "37d91190",
   "metadata": {},
   "outputs": [
    {
     "data": {
      "text/plain": [
       "(110013, 8)"
      ]
     },
     "execution_count": 24,
     "metadata": {},
     "output_type": "execute_result"
    }
   ],
   "source": [
    "user_df1.shape"
   ]
  },
  {
   "cell_type": "code",
   "execution_count": 25,
   "id": "a9f55e45",
   "metadata": {},
   "outputs": [],
   "source": [
    "#retirando colunas não utilizadas\n",
    "user_df1.drop(['order_status','Unnamed: 0'],axis=1,inplace=True)"
   ]
  },
  {
   "cell_type": "code",
   "execution_count": 26,
   "id": "95f308fa",
   "metadata": {},
   "outputs": [
    {
     "data": {
      "text/html": [
       "<div>\n",
       "<style scoped>\n",
       "    .dataframe tbody tr th:only-of-type {\n",
       "        vertical-align: middle;\n",
       "    }\n",
       "\n",
       "    .dataframe tbody tr th {\n",
       "        vertical-align: top;\n",
       "    }\n",
       "\n",
       "    .dataframe thead th {\n",
       "        text-align: right;\n",
       "    }\n",
       "</style>\n",
       "<table border=\"1\" class=\"dataframe\">\n",
       "  <thead>\n",
       "    <tr style=\"text-align: right;\">\n",
       "      <th></th>\n",
       "      <th>order_id</th>\n",
       "      <th>review_score</th>\n",
       "      <th>customer_id</th>\n",
       "      <th>order_item_id</th>\n",
       "      <th>product_id</th>\n",
       "      <th>price</th>\n",
       "    </tr>\n",
       "  </thead>\n",
       "  <tbody>\n",
       "    <tr>\n",
       "      <th>0</th>\n",
       "      <td>73fc7af87114b39712e6da79b0a377eb</td>\n",
       "      <td>4</td>\n",
       "      <td>41dcb106f807e993532d446263290104</td>\n",
       "      <td>1</td>\n",
       "      <td>fd25ab760bfbba13c198fa3b4f1a0cd3</td>\n",
       "      <td>185.00</td>\n",
       "    </tr>\n",
       "    <tr>\n",
       "      <th>1</th>\n",
       "      <td>73fc7af87114b39712e6da79b0a377eb</td>\n",
       "      <td>4</td>\n",
       "      <td>41dcb106f807e993532d446263290104</td>\n",
       "      <td>2</td>\n",
       "      <td>fd25ab760bfbba13c198fa3b4f1a0cd3</td>\n",
       "      <td>185.00</td>\n",
       "    </tr>\n",
       "    <tr>\n",
       "      <th>2</th>\n",
       "      <td>a548910a1c6147796b98fdf73dbeba33</td>\n",
       "      <td>5</td>\n",
       "      <td>8a2e7ef9053dea531e4dc76bd6d853e6</td>\n",
       "      <td>1</td>\n",
       "      <td>be0dbdc3d67d55727a65d4cd696ca73c</td>\n",
       "      <td>79.79</td>\n",
       "    </tr>\n",
       "    <tr>\n",
       "      <th>3</th>\n",
       "      <td>f9e4b658b201a9f2ecdecbb34bed034b</td>\n",
       "      <td>5</td>\n",
       "      <td>e226dfed6544df5b7b87a48208690feb</td>\n",
       "      <td>1</td>\n",
       "      <td>d1c427060a0f73f6b889a5c7c61f2ac4</td>\n",
       "      <td>149.00</td>\n",
       "    </tr>\n",
       "    <tr>\n",
       "      <th>4</th>\n",
       "      <td>658677c97b385a9be170737859d3511b</td>\n",
       "      <td>5</td>\n",
       "      <td>de6dff97e5f1ba84a3cd9a3bc97df5f6</td>\n",
       "      <td>1</td>\n",
       "      <td>52c80cedd4e90108bf4fa6a206ef6b03</td>\n",
       "      <td>179.99</td>\n",
       "    </tr>\n",
       "  </tbody>\n",
       "</table>\n",
       "</div>"
      ],
      "text/plain": [
       "                           order_id  review_score  \\\n",
       "0  73fc7af87114b39712e6da79b0a377eb             4   \n",
       "1  73fc7af87114b39712e6da79b0a377eb             4   \n",
       "2  a548910a1c6147796b98fdf73dbeba33             5   \n",
       "3  f9e4b658b201a9f2ecdecbb34bed034b             5   \n",
       "4  658677c97b385a9be170737859d3511b             5   \n",
       "\n",
       "                        customer_id  order_item_id  \\\n",
       "0  41dcb106f807e993532d446263290104              1   \n",
       "1  41dcb106f807e993532d446263290104              2   \n",
       "2  8a2e7ef9053dea531e4dc76bd6d853e6              1   \n",
       "3  e226dfed6544df5b7b87a48208690feb              1   \n",
       "4  de6dff97e5f1ba84a3cd9a3bc97df5f6              1   \n",
       "\n",
       "                         product_id   price  \n",
       "0  fd25ab760bfbba13c198fa3b4f1a0cd3  185.00  \n",
       "1  fd25ab760bfbba13c198fa3b4f1a0cd3  185.00  \n",
       "2  be0dbdc3d67d55727a65d4cd696ca73c   79.79  \n",
       "3  d1c427060a0f73f6b889a5c7c61f2ac4  149.00  \n",
       "4  52c80cedd4e90108bf4fa6a206ef6b03  179.99  "
      ]
     },
     "execution_count": 26,
     "metadata": {},
     "output_type": "execute_result"
    }
   ],
   "source": [
    "user_df1.head()"
   ]
  },
  {
   "cell_type": "markdown",
   "id": "0b5d4896",
   "metadata": {},
   "source": [
    "# Produtos com as maiores notas"
   ]
  },
  {
   "cell_type": "code",
   "execution_count": 28,
   "id": "b9b1dace",
   "metadata": {},
   "outputs": [],
   "source": [
    "review = pd.DataFrame(user_df1.groupby(['product_id'])['review_score'].sum())\n",
    "top20 = review.sort_values('review_score', ascending = False).head(20)"
   ]
  },
  {
   "cell_type": "code",
   "execution_count": 29,
   "id": "ac8f8f1e",
   "metadata": {},
   "outputs": [],
   "source": [
    "top20.rename(columns={'review_score': 'reviewScorTo'}, inplace=True)\n"
   ]
  },
  {
   "cell_type": "code",
   "execution_count": 30,
   "id": "4eb32f99",
   "metadata": {},
   "outputs": [],
   "source": [
    "avali_df=top20.merge(user_df1, left_index = True, right_on = 'product_id')"
   ]
  },
  {
   "cell_type": "code",
   "execution_count": 31,
   "id": "245a77f2",
   "metadata": {
    "scrolled": true
   },
   "outputs": [
    {
     "data": {
      "text/html": [
       "<div>\n",
       "<style scoped>\n",
       "    .dataframe tbody tr th:only-of-type {\n",
       "        vertical-align: middle;\n",
       "    }\n",
       "\n",
       "    .dataframe tbody tr th {\n",
       "        vertical-align: top;\n",
       "    }\n",
       "\n",
       "    .dataframe thead th {\n",
       "        text-align: right;\n",
       "    }\n",
       "</style>\n",
       "<table border=\"1\" class=\"dataframe\">\n",
       "  <thead>\n",
       "    <tr style=\"text-align: right;\">\n",
       "      <th></th>\n",
       "      <th>reviewScorTo</th>\n",
       "      <th>order_id</th>\n",
       "      <th>review_score</th>\n",
       "      <th>customer_id</th>\n",
       "      <th>order_item_id</th>\n",
       "      <th>product_id</th>\n",
       "      <th>price</th>\n",
       "    </tr>\n",
       "  </thead>\n",
       "  <tbody>\n",
       "    <tr>\n",
       "      <th>493</th>\n",
       "      <td>2093</td>\n",
       "      <td>d9aefa5d4ccd369c783f5121e069a470</td>\n",
       "      <td>5</td>\n",
       "      <td>1d4cdfbfb460efee13d334b446b54bdd</td>\n",
       "      <td>1</td>\n",
       "      <td>aca2eb7d00ea1a7b8ebd4e68314663af</td>\n",
       "      <td>69.9</td>\n",
       "    </tr>\n",
       "    <tr>\n",
       "      <th>789</th>\n",
       "      <td>2093</td>\n",
       "      <td>5982fca4536769e5024e12eb8b6f473c</td>\n",
       "      <td>5</td>\n",
       "      <td>60277a3e7abbb02da56b4a1ff79f985a</td>\n",
       "      <td>1</td>\n",
       "      <td>aca2eb7d00ea1a7b8ebd4e68314663af</td>\n",
       "      <td>69.9</td>\n",
       "    </tr>\n",
       "    <tr>\n",
       "      <th>919</th>\n",
       "      <td>2093</td>\n",
       "      <td>04105b54650921ca3246f52e6f175f46</td>\n",
       "      <td>5</td>\n",
       "      <td>5e67c2816f006a8ef69b3e9c8a5fab8f</td>\n",
       "      <td>1</td>\n",
       "      <td>aca2eb7d00ea1a7b8ebd4e68314663af</td>\n",
       "      <td>69.9</td>\n",
       "    </tr>\n",
       "    <tr>\n",
       "      <th>983</th>\n",
       "      <td>2093</td>\n",
       "      <td>d23640d83f7d582c4328ffd875e14966</td>\n",
       "      <td>4</td>\n",
       "      <td>cf93bb457c9af40c84cfe73ae4723fec</td>\n",
       "      <td>1</td>\n",
       "      <td>aca2eb7d00ea1a7b8ebd4e68314663af</td>\n",
       "      <td>69.9</td>\n",
       "    </tr>\n",
       "    <tr>\n",
       "      <th>984</th>\n",
       "      <td>2093</td>\n",
       "      <td>d23640d83f7d582c4328ffd875e14966</td>\n",
       "      <td>4</td>\n",
       "      <td>cf93bb457c9af40c84cfe73ae4723fec</td>\n",
       "      <td>2</td>\n",
       "      <td>aca2eb7d00ea1a7b8ebd4e68314663af</td>\n",
       "      <td>69.9</td>\n",
       "    </tr>\n",
       "  </tbody>\n",
       "</table>\n",
       "</div>"
      ],
      "text/plain": [
       "     reviewScorTo                          order_id  review_score  \\\n",
       "493          2093  d9aefa5d4ccd369c783f5121e069a470             5   \n",
       "789          2093  5982fca4536769e5024e12eb8b6f473c             5   \n",
       "919          2093  04105b54650921ca3246f52e6f175f46             5   \n",
       "983          2093  d23640d83f7d582c4328ffd875e14966             4   \n",
       "984          2093  d23640d83f7d582c4328ffd875e14966             4   \n",
       "\n",
       "                          customer_id  order_item_id  \\\n",
       "493  1d4cdfbfb460efee13d334b446b54bdd              1   \n",
       "789  60277a3e7abbb02da56b4a1ff79f985a              1   \n",
       "919  5e67c2816f006a8ef69b3e9c8a5fab8f              1   \n",
       "983  cf93bb457c9af40c84cfe73ae4723fec              1   \n",
       "984  cf93bb457c9af40c84cfe73ae4723fec              2   \n",
       "\n",
       "                           product_id  price  \n",
       "493  aca2eb7d00ea1a7b8ebd4e68314663af   69.9  \n",
       "789  aca2eb7d00ea1a7b8ebd4e68314663af   69.9  \n",
       "919  aca2eb7d00ea1a7b8ebd4e68314663af   69.9  \n",
       "983  aca2eb7d00ea1a7b8ebd4e68314663af   69.9  \n",
       "984  aca2eb7d00ea1a7b8ebd4e68314663af   69.9  "
      ]
     },
     "execution_count": 31,
     "metadata": {},
     "output_type": "execute_result"
    }
   ],
   "source": [
    "avali_df.head()"
   ]
  },
  {
   "cell_type": "code",
   "execution_count": 32,
   "id": "a7ab03e8",
   "metadata": {},
   "outputs": [
    {
     "data": {
      "image/png": "[encoded data removed]",
      "text/plain": [
       "<Figure size 432x288 with 1 Axes>"
      ]
     },
     "metadata": {
      "needs_background": "light"
     },
     "output_type": "display_data"
    }
   ],
   "source": [
    "# Box plot dos usuarios que compraram mais produtos\n",
    "fig4, ax4 = plt.subplots()\n",
    "ax4.set_title('Notas dos produtos')\n",
    "ax4.boxplot(avali_df['reviewScorTo']);"
   ]
  },
  {
   "cell_type": "code",
   "execution_count": 38,
   "id": "59665484",
   "metadata": {},
   "outputs": [
    {
     "data": {
      "text/plain": [
       "((96361, 4), 95832, 32072)"
      ]
     },
     "execution_count": 38,
     "metadata": {},
     "output_type": "execute_result"
    }
   ],
   "source": [
    "user_df.shape, user_df1['customer_id'].nunique(), user_df1['product_id'].nunique()"
   ]
  },
  {
   "cell_type": "markdown",
   "id": "5ea8dbcb",
   "metadata": {},
   "source": [
    "### Selecionar os 10.000 ususários mais ativos"
   ]
  },
  {
   "cell_type": "markdown",
   "id": "6e9482ab",
   "metadata": {},
   "source": [
    "Foi selecionado os 10000 usuários mais ativos por trazer uma representação das avalições nas compras na plataforma de compra "
   ]
  },
  {
   "cell_type": "code",
   "execution_count": 146,
   "id": "8068f6d5",
   "metadata": {},
   "outputs": [],
   "source": [
    "produ_id = user_df1['product_id'].unique().tolist()\n",
    "produ_id.sort()\n",
    "\n",
    "user_count = user_df1.groupby(by='customer_id', as_index=False) \\\n",
    "  .agg({'product_id': pd.Series.nunique}) \\\n",
    "  .rename(columns={'product_id': 'product_count'})\n",
    "shop_count = user_count.set_index('customer_id')\n",
    "top1000_users = shop_count.sort_values('product_count', ascending = False).head(10000)\n",
    "\n",
    "top_user_ids = top1000_users.index.tolist()\n",
    "top_user_ids.sort()"
   ]
  },
  {
   "cell_type": "code",
   "execution_count": 105,
   "id": "86c0672d",
   "metadata": {},
   "outputs": [
    {
     "data": {
      "image/png": "[encoded data removed]",
      "text/plain": [
       "<Figure size 432x288 with 1 Axes>"
      ]
     },
     "metadata": {
      "needs_background": "light"
     },
     "output_type": "display_data"
    }
   ],
   "source": [
    "# Box plot dos usuarios que compraram mais produtos\n",
    "fig4, ax4 = plt.subplots()\n",
    "ax4.set_title('Quantidade de produtos comprados por usuários')\n",
    "ax4.boxplot(top1000_users['product_count']);"
   ]
  },
  {
   "cell_type": "markdown",
   "id": "1f9a64fd",
   "metadata": {},
   "source": [
    "Pelo box plot é possivel observar que a media dos usuários compra 2 produtos, com alguns poucos usários compra mais produtos"
   ]
  },
  {
   "cell_type": "markdown",
   "id": "a2a176dc",
   "metadata": {},
   "source": [
    "# Preparação dos dados para o modelo de recomendação de produtos mais comprados\n",
    "\n",
    "Nesse modelo de recomendação o merge dos bancos (**produtos**,**cliente**, **Avaliações**) de dados foram realizados em etapas anteriores."
   ]
  },
  {
   "cell_type": "markdown",
   "id": "212944e5",
   "metadata": {},
   "source": [
    "## Produtos mais comprados"
   ]
  },
  {
   "cell_type": "code",
   "execution_count": 147,
   "id": "529b9cb6",
   "metadata": {},
   "outputs": [
    {
     "data": {
      "text/html": [
       "<div>\n",
       "<style scoped>\n",
       "    .dataframe tbody tr th:only-of-type {\n",
       "        vertical-align: middle;\n",
       "    }\n",
       "\n",
       "    .dataframe tbody tr th {\n",
       "        vertical-align: top;\n",
       "    }\n",
       "\n",
       "    .dataframe thead th {\n",
       "        text-align: right;\n",
       "    }\n",
       "</style>\n",
       "<table border=\"1\" class=\"dataframe\">\n",
       "  <thead>\n",
       "    <tr style=\"text-align: right;\">\n",
       "      <th></th>\n",
       "      <th>UserCount</th>\n",
       "      <th>order_id</th>\n",
       "      <th>review_score</th>\n",
       "      <th>customer_id</th>\n",
       "      <th>order_item_id</th>\n",
       "      <th>product_id</th>\n",
       "      <th>price</th>\n",
       "    </tr>\n",
       "  </thead>\n",
       "  <tbody>\n",
       "    <tr>\n",
       "      <th>183</th>\n",
       "      <td>448</td>\n",
       "      <td>54b73f808b0ff25da4276773c30ac269</td>\n",
       "      <td>5</td>\n",
       "      <td>e154e499a4edf9f98c29f41476f96d1c</td>\n",
       "      <td>1</td>\n",
       "      <td>99a4788cb24856965c36a24e339b6058</td>\n",
       "      <td>89.9</td>\n",
       "    </tr>\n",
       "    <tr>\n",
       "      <th>231</th>\n",
       "      <td>448</td>\n",
       "      <td>935f0d2ac8ce7ce29f5712d2637ddb33</td>\n",
       "      <td>5</td>\n",
       "      <td>347542b2d5ff3990248773f2c840801b</td>\n",
       "      <td>1</td>\n",
       "      <td>99a4788cb24856965c36a24e339b6058</td>\n",
       "      <td>86.9</td>\n",
       "    </tr>\n",
       "    <tr>\n",
       "      <th>491</th>\n",
       "      <td>448</td>\n",
       "      <td>c830f223aae08493ebecb52f29aa48ca</td>\n",
       "      <td>5</td>\n",
       "      <td>af626bcc9c27c08077b02e6d3aa00c36</td>\n",
       "      <td>1</td>\n",
       "      <td>99a4788cb24856965c36a24e339b6058</td>\n",
       "      <td>89.9</td>\n",
       "    </tr>\n",
       "    <tr>\n",
       "      <th>723</th>\n",
       "      <td>448</td>\n",
       "      <td>d8253682886103126c169f93e8b46349</td>\n",
       "      <td>3</td>\n",
       "      <td>17cc65ff9ac50c525332662f3261a9bb</td>\n",
       "      <td>1</td>\n",
       "      <td>99a4788cb24856965c36a24e339b6058</td>\n",
       "      <td>89.9</td>\n",
       "    </tr>\n",
       "    <tr>\n",
       "      <th>845</th>\n",
       "      <td>448</td>\n",
       "      <td>0ccc28cc32fa5c8ca6a3b2d594700714</td>\n",
       "      <td>1</td>\n",
       "      <td>bfadadd0d97f4c52f859c1c4d809edf9</td>\n",
       "      <td>2</td>\n",
       "      <td>99a4788cb24856965c36a24e339b6058</td>\n",
       "      <td>89.9</td>\n",
       "    </tr>\n",
       "  </tbody>\n",
       "</table>\n",
       "</div>"
      ],
      "text/plain": [
       "     UserCount                          order_id  review_score  \\\n",
       "183        448  54b73f808b0ff25da4276773c30ac269             5   \n",
       "231        448  935f0d2ac8ce7ce29f5712d2637ddb33             5   \n",
       "491        448  c830f223aae08493ebecb52f29aa48ca             5   \n",
       "723        448  d8253682886103126c169f93e8b46349             3   \n",
       "845        448  0ccc28cc32fa5c8ca6a3b2d594700714             1   \n",
       "\n",
       "                          customer_id  order_item_id  \\\n",
       "183  e154e499a4edf9f98c29f41476f96d1c              1   \n",
       "231  347542b2d5ff3990248773f2c840801b              1   \n",
       "491  af626bcc9c27c08077b02e6d3aa00c36              1   \n",
       "723  17cc65ff9ac50c525332662f3261a9bb              1   \n",
       "845  bfadadd0d97f4c52f859c1c4d809edf9              2   \n",
       "\n",
       "                           product_id  price  \n",
       "183  99a4788cb24856965c36a24e339b6058   89.9  \n",
       "231  99a4788cb24856965c36a24e339b6058   86.9  \n",
       "491  99a4788cb24856965c36a24e339b6058   89.9  \n",
       "723  99a4788cb24856965c36a24e339b6058   89.9  \n",
       "845  99a4788cb24856965c36a24e339b6058   89.9  "
      ]
     },
     "execution_count": 147,
     "metadata": {},
     "output_type": "execute_result"
    }
   ],
   "source": [
    "count = user_df1.groupby(by='product_id', as_index=False) \\\n",
    "  .agg({'customer_id': pd.Series.nunique}) \\\n",
    "  .rename(columns={'customer_id': 'UserCount'})\n",
    "\n",
    "buyCount = count.set_index('product_id')\n",
    "top20prod = buyCount.sort_values('UserCount', ascending = False).head(20)\n",
    "\n",
    "quantiBuy_df= top20prod.merge(user_df1, left_index = True, right_on = 'product_id')\n",
    "quantiBuy_df.head()"
   ]
  },
  {
   "cell_type": "code",
   "execution_count": 149,
   "id": "61596c32",
   "metadata": {},
   "outputs": [
    {
     "data": {
      "text/plain": [
       "(20, 1)"
      ]
     },
     "execution_count": 149,
     "metadata": {},
     "output_type": "execute_result"
    }
   ],
   "source": [
    "top20prod.shape"
   ]
  },
  {
   "cell_type": "code",
   "execution_count": 37,
   "id": "467cefe7",
   "metadata": {},
   "outputs": [
    {
     "data": {
      "image/png": "[encoded data removed]",
      "text/plain": [
       "<Figure size 432x288 with 1 Axes>"
      ]
     },
     "metadata": {
      "needs_background": "light"
     },
     "output_type": "display_data"
    }
   ],
   "source": [
    "# Box plot dos usuarios que compraram mais produtos\n",
    "fig4, ax4 = plt.subplots()\n",
    "ax4.set_title('Quantidade de vezes que o produto foi vendido')\n",
    "ax4.boxplot(quantiBuy_df['UserCount']);"
   ]
  },
  {
   "cell_type": "code",
   "execution_count": 123,
   "id": "aecdafed",
   "metadata": {},
   "outputs": [
    {
     "data": {
      "text/plain": [
       "110013"
      ]
     },
     "execution_count": 123,
     "metadata": {},
     "output_type": "execute_result"
    }
   ],
   "source": [
    "(user_df1['product_id'].value_counts()).sum()"
   ]
  },
  {
   "cell_type": "code",
   "execution_count": 145,
   "id": "d8261ad3",
   "metadata": {},
   "outputs": [
    {
     "data": {
      "text/plain": [
       "45.54279948733331"
      ]
     },
     "execution_count": 145,
     "metadata": {},
     "output_type": "execute_result"
    }
   ],
   "source": [
    "(((user_df1['product_id'].value_counts(1)*100).head(2000)).sum())"
   ]
  },
  {
   "cell_type": "code",
   "execution_count": 130,
   "id": "0d4fc417",
   "metadata": {},
   "outputs": [
    {
     "data": {
      "text/plain": [
       "62.126294165235024"
      ]
     },
     "execution_count": 130,
     "metadata": {},
     "output_type": "execute_result"
    }
   ],
   "source": [
    "(((user_df1['product_id'].value_counts(1)*100).head(5000)).sum())"
   ]
  },
  {
   "cell_type": "markdown",
   "id": "c4dc30ce",
   "metadata": {},
   "source": [
    "# Porque escolher este modelo?\n",
    "## Escolha do Modelo\n",
    "\n",
    "Um total de 110.013 produtos diferentes sendo vendidos, contudo, cerca de 5.000 produtos conrresponde a 62,12% do total de vendas realizadas. Fato importante é que 2.000 produtos mais vendidos corresponde a 45,54% dos produtos mais vendidos, assim como modelo de recomendação vamos utilizar os 2.000 produtos mais vendidos, visto que termos uma perda de recomendação em cerca de 17% dos produtos mais vendido, porém uma economia de processamento de mais de 50%. Assim, no modelo final será utilizado apenas os 2.000 produtos mais vendidos como modelo de recomendação.\n",
    "\n",
    "#### Esse é o motivo da escolha do modelo de recomendação para os 2.000 produtos mais vendidos"
   ]
  },
  {
   "cell_type": "markdown",
   "id": "d2775779",
   "metadata": {},
   "source": [
    "# Preparando o modelo de recomendação de produtos mais vendidos"
   ]
  },
  {
   "cell_type": "markdown",
   "id": "ef359021",
   "metadata": {},
   "source": [
    "Seleção dos 2.000 produtos mais vendidos e conversão deles em lista"
   ]
  },
  {
   "cell_type": "code",
   "execution_count": 111,
   "id": "2b709106",
   "metadata": {},
   "outputs": [],
   "source": [
    "top20pro = buyCount.sort_values('UserCount', ascending = False).head(2000)\n",
    "top20p = top20pro.index.tolist()\n",
    "top20p.sort()"
   ]
  },
  {
   "cell_type": "markdown",
   "id": "47fdd5a3",
   "metadata": {},
   "source": [
    "Seleção dos top 20 produtos mais vendidos e conversão deles em lista"
   ]
  },
  {
   "cell_type": "code",
   "execution_count": 97,
   "id": "3b6723a7",
   "metadata": {},
   "outputs": [],
   "source": [
    "top20pr = top20.index.tolist()\n",
    "top20pr.sort()"
   ]
  },
  {
   "cell_type": "markdown",
   "id": "b1b08415",
   "metadata": {},
   "source": [
    "Importando a biblioteca de machie learning"
   ]
  },
  {
   "cell_type": "code",
   "execution_count": null,
   "id": "bd6cb7fa",
   "metadata": {},
   "outputs": [],
   "source": [
    "from sklearn.metrics.pairwise import cosine_similarity"
   ]
  },
  {
   "cell_type": "code",
   "execution_count": 63,
   "id": "563d2c23",
   "metadata": {},
   "outputs": [
    {
     "data": {
      "text/plain": [
       "(2000, 44413)"
      ]
     },
     "execution_count": 63,
     "metadata": {},
     "output_type": "execute_result"
    }
   ],
   "source": [
    "# matriz de relacionamento top produtos\n",
    "matriztop_prod_ratings = user_df1[user_df1[\"product_id\"].isin(top20p)] \\\n",
    "  .pivot_table(index=\"product_id\", columns=\"customer_id\", values=\"review_score\").fillna(0)\n",
    "\n",
    "matriztop_prod_ratings.shape"
   ]
  },
  {
   "cell_type": "code",
   "execution_count": 82,
   "id": "7b36b7d6",
   "metadata": {},
   "outputs": [
    {
     "name": "stdout",
     "output_type": "stream",
     "text": [
      "[[1. 0. 0. ... 0. 0. 0.]\n",
      " [0. 1. 0. ... 0. 0. 0.]\n",
      " [0. 0. 1. ... 0. 0. 0.]\n",
      " ...\n",
      " [0. 0. 0. ... 1. 0. 0.]\n",
      " [0. 0. 0. ... 0. 1. 0.]\n",
      " [0. 0. 0. ... 0. 0. 1.]]\n"
     ]
    },
    {
     "data": {
      "text/plain": [
       "(2000, 2000)"
      ]
     },
     "execution_count": 82,
     "metadata": {},
     "output_type": "execute_result"
    }
   ],
   "source": [
    "cos_produto = cosine_similarity(matriztop_prod_ratings)\n",
    "\n",
    "print(cos_produto)\n",
    "cos_produto.shape"
   ]
  },
  {
   "cell_type": "code",
   "execution_count": 131,
   "id": "e5617891",
   "metadata": {},
   "outputs": [],
   "source": [
    "def recomendar(id_produto):\n",
    "  print(f\"Produto de interesse: {id_produto}\")\n",
    "  try:\n",
    "    produto_idx = matriztop_prod_ratings.index.tolist().index(id_produto)\n",
    "    closest_10_produto = np.argsort(-cos_produto[produto_idx])[1:11]\n",
    "    print(f\"Retornando 10 produtos mais próximos de: {id_produto}.\")\n",
    "    return matriztop_prod_ratings.index[closest_10_produto].tolist()\n",
    "  except ValueError as e:\n",
    "    print(f\"{id_produto}, não está incluso na matriz de recomendação. Retornando os 20 mais avaliados\")\n",
    "    return top20pr"
   ]
  },
  {
   "cell_type": "code",
   "execution_count": 113,
   "id": "ff6a0949",
   "metadata": {
    "scrolled": true
   },
   "outputs": [
    {
     "name": "stdout",
     "output_type": "stream",
     "text": [
      "Produto de interesse: be0dbdc3d67d55727a65d4cd696ca73c\n",
      "Retornando 10 produtos mais próximos de: be0dbdc3d67d55727a65d4cd696ca73c.\n"
     ]
    },
    {
     "data": {
      "text/plain": [
       "['001b72dfd63e9833e8c02742adf472e3',\n",
       " 'ab1106e227a745836a0dc83b374e2575',\n",
       " 'aadff88486740e0b0ebe2be6c09476ae',\n",
       " 'aa8d88eb4b9cb38894e33fa624c4287f',\n",
       " 'aa70ae9ee9a798d44ae6e00ce6d82cb1',\n",
       " 'aa5d6a9bd4be367ae1a3a29c323c7c11',\n",
       " 'aa53b7499856e6df13008f34100cc336',\n",
       " 'aa36c2127048efdcd47f4ad5b6b68810',\n",
       " 'aa280035c50ba62c746480a59045eec4',\n",
       " 'a9f480bfc49f0b85e8394e1cdf685b4e']"
      ]
     },
     "execution_count": 113,
     "metadata": {},
     "output_type": "execute_result"
    }
   ],
   "source": [
    "id_produto_interesse = \"be0dbdc3d67d55727a65d4cd696ca73c\" # entre os 2000 produtos mais vendidos\n",
    "ids_10_mais_proximos = recomendar(id_produto_interesse)\n",
    "\n",
    "ids_10_mais_proximos"
   ]
  },
  {
   "cell_type": "code",
   "execution_count": 133,
   "id": "7f8c5bdf",
   "metadata": {},
   "outputs": [
    {
     "name": "stdout",
     "output_type": "stream",
     "text": [
      "Produto de interesse: f8fd25407acaa78a395f224cbdc062c8\n",
      "f8fd25407acaa78a395f224cbdc062c8, não está incluso na matriz de recomendação. Retornando os 20 mais avaliados\n"
     ]
    },
    {
     "data": {
      "text/plain": [
       "['154e7e31ebfa092203795c972e5804a6',\n",
       " '2b4609f8948be18874494203496bc318',\n",
       " '368c6c730842d78016ad823897a372db',\n",
       " '389d119b48cf3043d311335e499d9c6b',\n",
       " '3dd2a17168ec895c781a9191c1e95ad7',\n",
       " '422879e10f46682990de24d770e7f83d',\n",
       " '42a2c92a0979a949ca4ea89ec5c7b934',\n",
       " '53759a2ecddad2bb87a079a1f1519f73',\n",
       " '53b36df67ebb7c41585e8d54d6772e08',\n",
       " '5a848e4ab52fd5445cdc07aab1c40e48',\n",
       " '6cdd53843498f92890544667809f1595',\n",
       " '7c1bd920dbdf22470b68bde975dd3ccf',\n",
       " '99a4788cb24856965c36a24e339b6058',\n",
       " 'a62e25e09e05e6faf31d90c6ec1aa3d1',\n",
       " 'aca2eb7d00ea1a7b8ebd4e68314663af',\n",
       " 'bb50f2e236e5eea0100680137654686c',\n",
       " 'd1c427060a0f73f6b889a5c7c61f2ac4',\n",
       " 'e0d64dcfaa3b6db5c54ca298ae101d05',\n",
       " 'e53e557d5a159f5aa2c5e995dfdf244b',\n",
       " 'f1c7f353075ce59d8a6f3cf58f419c9c']"
      ]
     },
     "execution_count": 133,
     "metadata": {},
     "output_type": "execute_result"
    }
   ],
   "source": [
    "id_produto_interesse = \"f8fd25407acaa78a395f224cbdc062c8\" # produto não disponível na matriz de recomendação\n",
    "ids_10_mais_vendidos = recomendar(id_produto_interesse)\n",
    "\n",
    "ids_10_mais_vendidos"
   ]
  },
  {
   "cell_type": "markdown",
   "id": "7165d77a",
   "metadata": {},
   "source": [
    "### considerações finais sobre o modelo\n",
    "\n",
    "Nesse modelo qualque produto que for comprado pelo usuário que estiver dentro da matriz dos 2.000 produtos mais vendido será recomendado um produto próximo a ele, porém, se o produto de interesse for outro que não esteja na lista dos 2.000 produtos de interesse será recomentado o top 20 produtos mais vendidos.\n",
    "Optou por recomendar o top 20 produtos devido diversidade de produtos que possuem a venda "
   ]
  }
 ],
 "metadata": {
  "kernelspec": {
   "display_name": "Python 3",
   "language": "python",
   "name": "python3"
  },
  "language_info": {
   "codemirror_mode": {
    "name": "ipython",
    "version": 3
   },
   "file_extension": ".py",
   "mimetype": "text/x-python",
   "name": "python",
   "nbconvert_exporter": "python",
   "pygments_lexer": "ipython3",
   "version": "3.8.8"
  }
 },
 "nbformat": 4,
 "nbformat_minor": 5
}
